{
 "cells": [
  {
   "cell_type": "code",
   "execution_count": 2,
   "id": "827d88af",
   "metadata": {},
   "outputs": [
    {
     "name": "stdout",
     "output_type": "stream",
     "text": [
      "Deeksha\n",
      "Deeksha\n",
      "Deeksha\n",
      "Deeksha\n",
      "Deeksha\n",
      "Deeksha\n",
      "Deeksha\n",
      "\n"
     ]
    }
   ],
   "source": [
    "print(\"Deeksha\\n\"*7)"
   ]
  },
  {
   "cell_type": "code",
   "execution_count": null,
   "id": "6beec376",
   "metadata": {},
   "outputs": [],
   "source": []
  }
 ],
 "metadata": {
  "kernelspec": {
   "display_name": "torch_env",
   "language": "python",
   "name": "python3"
  },
  "language_info": {
   "codemirror_mode": {
    "name": "ipython",
    "version": 3
   },
   "file_extension": ".py",
   "mimetype": "text/x-python",
   "name": "python",
   "nbconvert_exporter": "python",
   "pygments_lexer": "ipython3",
   "version": "3.12.8"
  }
 },
 "nbformat": 4,
 "nbformat_minor": 5
}
